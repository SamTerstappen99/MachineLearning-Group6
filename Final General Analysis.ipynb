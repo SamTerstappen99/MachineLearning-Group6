{
 "cells": [
  {
   "cell_type": "code",
   "execution_count": 9,
   "id": "06c15189",
   "metadata": {},
   "outputs": [],
   "source": [
    "import numpy as np \n",
    "import pandas as pd \n",
    "import seaborn as sns; sns.set(rc={'figure.figsize':(16,9)})\n",
    "import matplotlib.pyplot as plt"
   ]
  },
  {
   "cell_type": "code",
   "execution_count": 10,
   "id": "0f85f7ec",
   "metadata": {},
   "outputs": [],
   "source": [
    "olist_customers = pd.read_csv('olist_customers_dataset.csv')\n",
    "olist_geolocation = pd.read_csv('olist_geolocation_dataset.csv')\n",
    "olist_orders = pd.read_csv('olist_orders_dataset.csv')\n",
    "olist_items = pd.read_csv('olist_order_items_dataset.csv')\n",
    "olist_order_payments = pd.read_csv('olist_order_payments_dataset.csv')\n",
    "olist_reviews = pd.read_csv('olist_order_reviews_dataset.csv')\n",
    "olist_products = pd.read_csv('olist_products_dataset.csv')\n",
    "olist_sellers = pd.read_csv('olist_sellers_dataset.csv')"
   ]
  },
  {
   "cell_type": "code",
   "execution_count": 11,
   "id": "19f1a233",
   "metadata": {},
   "outputs": [
    {
     "name": "stdout",
     "output_type": "stream",
     "text": [
      "(119143, 39)\n"
     ]
    }
   ],
   "source": [
    "olist_train = olist_orders.merge(olist_items, on='order_id', how='left')\n",
    "olist_train = olist_train.merge(olist_order_payments, on='order_id', how='outer', validate='m:m')\n",
    "olist_train = olist_train.merge(olist_reviews, on='order_id', how='outer')\n",
    "olist_train = olist_train.merge(olist_products, on='product_id', how='outer')\n",
    "olist_train = olist_train.merge(olist_customers, on='customer_id', how='outer')\n",
    "olist_train = olist_train.merge(olist_sellers, on='seller_id', how='outer')\n",
    "\n",
    "print(olist_train.shape)"
   ]
  },
  {
   "cell_type": "code",
   "execution_count": null,
   "id": "912b062e",
   "metadata": {},
   "outputs": [],
   "source": []
  }
 ],
 "metadata": {
  "kernelspec": {
   "display_name": "Python 3 (ipykernel)",
   "language": "python",
   "name": "python3"
  },
  "language_info": {
   "codemirror_mode": {
    "name": "ipython",
    "version": 3
   },
   "file_extension": ".py",
   "mimetype": "text/x-python",
   "name": "python",
   "nbconvert_exporter": "python",
   "pygments_lexer": "ipython3",
   "version": "3.11.4"
  }
 },
 "nbformat": 4,
 "nbformat_minor": 5
}
