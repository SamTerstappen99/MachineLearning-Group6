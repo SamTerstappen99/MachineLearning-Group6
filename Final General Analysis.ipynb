{
 "cells": [
  {
   "cell_type": "code",
   "execution_count": 6,
   "id": "2ba9ae45",
   "metadata": {},
   "outputs": [],
   "source": [
    "# Import libaries\n",
    "import numpy as np \n",
    "import pandas as pd \n",
    "import seaborn as sns; sns.set(rc={'figure.figsize':(16,9)})\n",
    "import matplotlib.pyplot as plt\n",
    "from scipy import stats "
   ]
  },
  {
   "cell_type": "code",
   "execution_count": 7,
   "id": "3956e6b4",
   "metadata": {},
   "outputs": [],
   "source": [
    "# Read the datasets\n",
    "olist_customers = pd.read_csv('olist_customers_dataset.csv')\n",
    "olist_geolocation = pd.read_csv('olist_geolocation_dataset.csv')\n",
    "olist_orders = pd.read_csv('olist_orders_dataset.csv')\n",
    "olist_items = pd.read_csv('olist_order_items_dataset.csv')\n",
    "olist_order_payments = pd.read_csv('olist_order_payments_dataset.csv')\n",
    "olist_reviews = pd.read_csv('olist_order_reviews_dataset.csv')\n",
    "olist_products = pd.read_csv('olist_products_dataset.csv')\n",
    "olist_sellers = pd.read_csv('olist_sellers_dataset.csv')\n",
    "olist_category = pd.read_csv('product_category_name_translation.csv')"
   ]
  },
  {
   "cell_type": "code",
   "execution_count": 9,
   "id": "87228dff",
   "metadata": {},
   "outputs": [
    {
     "data": {
      "text/plain": [
       "(116576, 40)"
      ]
     },
     "execution_count": 9,
     "metadata": {},
     "output_type": "execute_result"
    }
   ],
   "source": [
    "# Merge the datasets\n",
    "olist_new = olist_orders.merge(olist_items, on='order_id', how='left')\n",
    "olist_new = olist_new.merge(olist_order_payments, on='order_id', how='outer', validate='m:m')\n",
    "olist_new = olist_new.merge(olist_reviews, on='order_id', how='outer')\n",
    "olist_new = olist_new.merge(olist_products, on='product_id', how='outer')\n",
    "olist_new = olist_new.merge(olist_customers, on='customer_id', how='outer')\n",
    "olist_new = olist_new.merge(olist_sellers, on='seller_id', how='outer')\n",
    "olist_new= olist_new.merge(olist_category, on='product_category_name', how='inner')\n",
    "\n",
    "olist_new.shape\n"
   ]
  },
  {
   "cell_type": "code",
   "execution_count": null,
   "id": "4ed838f6",
   "metadata": {},
   "outputs": [],
   "source": []
  },
  {
   "cell_type": "code",
   "execution_count": null,
   "id": "2c6d3329",
   "metadata": {},
   "outputs": [],
   "source": [
    "# Explore data\n",
    "def resumetable(df):\n",
    "    print(f\"Dataset Shape: {df.shape}\")\n",
    "    summary = pd.DataFrame(df.dtypes,columns=['dtypes'])\n",
    "    summary = summary.reset_index()\n",
    "    summary['Name'] = summary['index']\n",
    "    summary = summary[['Name','dtypes']]\n",
    "    summary['Missing'] = df.isnull().sum().values    \n",
    "    summary['Uniques'] = df.nunique().values\n",
    "    summary['First Value'] = df.loc[0].values\n",
    "    summary['Second Value'] = df.loc[1].values\n",
    "    summary['Third Value'] = df.loc[2].values\n",
    "\n",
    "    for name in summary['Name'].value_counts().index:\n",
    "        summary.loc[summary['Name'] == name, 'Entropy'] = round(stats.entropy(df[name].value_counts(normalize=True), base=2),2) \n",
    "\n",
    "    return summary\n",
    "\n",
    "def cross_heatmap(df, cols, normalize=False, values=None, aggfunc=None):\n",
    "    temp = cols\n",
    "    cm = sns.light_palette(\"green\", as_cmap=True)\n",
    "    return pd.crosstab(df[temp[0]], df[temp[1]], \n",
    "                       normalize=normalize, values=values, aggfunc=aggfunc).style.background_gradient(cmap = cm)\n",
    "\n",
    "resumetable(olist_new)"
   ]
  },
  {
   "cell_type": "code",
   "execution_count": null,
   "id": "65c42868",
   "metadata": {},
   "outputs": [],
   "source": []
  },
  {
   "cell_type": "code",
   "execution_count": null,
   "id": "344f1058",
   "metadata": {},
   "outputs": [],
   "source": [
    "# Customer Analysis\n",
    "# What regions have high demand?\n",
    "# In what months?"
   ]
  },
  {
   "cell_type": "code",
   "execution_count": null,
   "id": "b7a55517",
   "metadata": {},
   "outputs": [],
   "source": [
    "# Time-stamp related data\n",
    "timestamp_cols = ['order_purchase_timestamp', 'order_approved_at', 'order_delivered_carrier_date', \n",
    "                  'order_delivered_customer_date', 'order_estimated_delivery_date']\n",
    "\n",
    "for col in timestamp_cols:\n",
    "    olist_new[col] = pd.to_datetime(olist_new[col])\n",
    "\n",
    "# Time-Stamps transition --> Converting Datetime from Object to Datetime\n",
    "olist_new['purchase_year'] = olist_new['order_purchase_timestamp'].dt.year\n",
    "olist_new['purchase_month'] = olist_new['order_purchase_timestamp'].dt.month\n",
    "olist_new['purchase_day'] = olist_new['order_purchase_timestamp'].dt.day\n",
    "olist_new['purchase_day_of_week'] = olist_new['order_purchase_timestamp'].dt.dayofweek\n",
    "olist_new['purchase_hour'] = olist_new['order_purchase_timestamp'].dt.hour\n"
   ]
  },
  {
   "cell_type": "code",
   "execution_count": 1,
   "id": "0b144260",
   "metadata": {},
   "outputs": [
    {
     "ename": "NameError",
     "evalue": "name 'pd' is not defined",
     "output_type": "error",
     "traceback": [
      "\u001b[1;31m---------------------------------------------------------------------------\u001b[0m",
      "\u001b[1;31mNameError\u001b[0m                                 Traceback (most recent call last)",
      "Cell \u001b[1;32mIn[1], line 1\u001b[0m\n\u001b[1;32m----> 1\u001b[0m olist_new[\u001b[38;5;124m'\u001b[39m\u001b[38;5;124morder_purchase_timestamp\u001b[39m\u001b[38;5;124m'\u001b[39m] \u001b[38;5;241m=\u001b[39m pd\u001b[38;5;241m.\u001b[39mto_datetime(olist_new[\u001b[38;5;124m'\u001b[39m\u001b[38;5;124morder_purchase_timestamp\u001b[39m\u001b[38;5;124m'\u001b[39m])\n\u001b[0;32m      2\u001b[0m olist_new[\u001b[38;5;124m'\u001b[39m\u001b[38;5;124morder_delivered_customer_date\u001b[39m\u001b[38;5;124m'\u001b[39m] \u001b[38;5;241m=\u001b[39m pd\u001b[38;5;241m.\u001b[39mto_datetime(olist_new[\u001b[38;5;124m'\u001b[39m\u001b[38;5;124morder_delivered_customer_date\u001b[39m\u001b[38;5;124m'\u001b[39m])\n\u001b[0;32m      3\u001b[0m olist_new[\u001b[38;5;124m'\u001b[39m\u001b[38;5;124morder_estimated_delivery_date\u001b[39m\u001b[38;5;124m'\u001b[39m] \u001b[38;5;241m=\u001b[39m pd\u001b[38;5;241m.\u001b[39mto_datetime(olist_new[\u001b[38;5;124m'\u001b[39m\u001b[38;5;124morder_estimated_delivery_date\u001b[39m\u001b[38;5;124m'\u001b[39m])\n",
      "\u001b[1;31mNameError\u001b[0m: name 'pd' is not defined"
     ]
    }
   ],
   "source": [
    "olist_new['order_purchase_timestamp'] = pd.to_datetime(olist_new['order_purchase_timestamp'])\n",
    "olist_new['order_delivered_customer_date'] = pd.to_datetime(olist_new['order_delivered_customer_date'])\n",
    "olist_new['order_estimated_delivery_date'] = pd.to_datetime(olist_new['order_estimated_delivery_date'])\n",
    "olist_new['shipping_limit_date'] = pd.to_datetime(olist_new['shipping_limit_date'])\n",
    "olist_new['order_delivered_carrier_date'] =pd.to_datetime(olist_new['order_delivered_carrier_date'])"
   ]
  },
  {
   "cell_type": "code",
   "execution_count": null,
   "id": "e5b4cdb7",
   "metadata": {},
   "outputs": [],
   "source": [
    "olist_new['estimated_days'] = (olist_new['order_estimated_delivery_date'].dt.date - olist_new['order_purchase_timestamp'].dt.date).dt.days"
   ]
  },
  {
   "cell_type": "code",
   "execution_count": null,
   "id": "eb89ee00",
   "metadata": {},
   "outputs": [],
   "source": [
    "olist_new['arrival_days'] = (olist_new['order_delivered_customer_date'].dt.date - olist_new['order_purchase_timestamp'].dt.date).dt.days"
   ]
  },
  {
   "cell_type": "code",
   "execution_count": 2,
   "id": "1c7ad0c5",
   "metadata": {},
   "outputs": [
    {
     "ename": "NameError",
     "evalue": "name 'olist_new' is not defined",
     "output_type": "error",
     "traceback": [
      "\u001b[1;31m---------------------------------------------------------------------------\u001b[0m",
      "\u001b[1;31mNameError\u001b[0m                                 Traceback (most recent call last)",
      "Cell \u001b[1;32mIn[2], line 1\u001b[0m\n\u001b[1;32m----> 1\u001b[0m olist_new[\u001b[38;5;124m'\u001b[39m\u001b[38;5;124mshipping_days\u001b[39m\u001b[38;5;124m'\u001b[39m] \u001b[38;5;241m=\u001b[39m (olist_new[\u001b[38;5;124m'\u001b[39m\u001b[38;5;124morder_delivered_customer_date\u001b[39m\u001b[38;5;124m'\u001b[39m]\u001b[38;5;241m.\u001b[39mdt\u001b[38;5;241m.\u001b[39mdate \u001b[38;5;241m-\u001b[39m olist_new[\u001b[38;5;124m'\u001b[39m\u001b[38;5;124morder_delivered_carrier_date\u001b[39m\u001b[38;5;124m'\u001b[39m]\u001b[38;5;241m.\u001b[39mdt\u001b[38;5;241m.\u001b[39mdate)\u001b[38;5;241m.\u001b[39mdt\u001b[38;5;241m.\u001b[39mdays\n",
      "\u001b[1;31mNameError\u001b[0m: name 'olist_new' is not defined"
     ]
    }
   ],
   "source": [
    "olist_new['shipping_days'] = (olist_new['order_delivered_customer_date'].dt.date - olist_new['order_delivered_carrier_date'].dt.date).dt.days"
   ]
  },
  {
   "cell_type": "code",
   "execution_count": null,
   "id": "5ed67fc7",
   "metadata": {},
   "outputs": [],
   "source": [
    "olist_new.drop((olist_new[['order_delivered_carrier_date', 'order_delivered_customer_date']][olist_new.shipping_days < 0]).index, inplace= True)"
   ]
  },
  {
   "cell_type": "code",
   "execution_count": null,
   "id": "fd1dded4",
   "metadata": {},
   "outputs": [],
   "source": [
    "# First get seller to carrier duration in days\n",
    "olist_new['seller_to_carrier_status'] = (olist_new['shipping_limit_date'].dt.date - olist_new['order_delivered_carrier_date'].dt.date).dt.days\n",
    "\n",
    "# Now calssify the duration into 'OnTime/Early' & 'Late'\n",
    "olist_new['seller_to_carrier_status'] = olist_new['seller_to_carrier_status'].apply(lambda x : 'OnTime/Early' if x >=0 else 'Late')"
   ]
  },
  {
   "cell_type": "code",
   "execution_count": null,
   "id": "6c3168b5",
   "metadata": {},
   "outputs": [],
   "source": [
    "# First get difference between estimated delivery date and actual delivery date in days\n",
    "olist_new['arrival_status'] = (olist_new['order_estimated_delivery_date'].dt.date - olist_new['order_delivered_customer_date'].dt.date).dt.days\n",
    "\n",
    "# Now Classify the duration in 'OnTime/Early' & 'Late'\n",
    "olist_new['arrival_status'] = olist_new['arrival_status'].apply(lambda x : 'OnTime/Early' if x >=0 else 'Late')"
   ]
  },
  {
   "cell_type": "code",
   "execution_count": null,
   "id": "30b5e238",
   "metadata": {},
   "outputs": [],
   "source": [
    "olist_new[['estimated_days', 'arrival_days', 'shipping_days']].describe()"
   ]
  },
  {
   "cell_type": "code",
   "execution_count": null,
   "id": "4cd240b2",
   "metadata": {},
   "outputs": [],
   "source": [
    "# Number of orders per year\n",
    "orders_per_year = olist_new['purchase_year'].value_counts().sort_index()\n",
    "\n",
    "# Number of orders per month\n",
    "orders_per_month = olist_new.groupby('purchase_month').size()\n",
    "\n",
    "# Number of orders per day of the week\n",
    "orders_per_day_of_week = olist_new['purchase_day_of_week'].value_counts().sort_index()\n",
    "\n",
    "# Number of orders per hour\n",
    "orders_per_hour = olist_new['purchase_hour'].value_counts().sort_index()"
   ]
  },
  {
   "cell_type": "code",
   "execution_count": null,
   "id": "003a13a7",
   "metadata": {},
   "outputs": [],
   "source": [
    "# Create subplots for each graph\n",
    "fig, axes = plt.subplots(2, 2, figsize=(12, 10))\n",
    "\n",
    "# Plot number of orders per year\n",
    "axes[0, 0].bar(orders_per_year.index, orders_per_year.values, color='skyblue')\n",
    "axes[0, 0].set_title('Number of Orders per Year')\n",
    "axes[0, 0].set_xlabel('Year')\n",
    "axes[0, 0].set_ylabel('Number of Orders')\n",
    "\n",
    "# Plot number of orders per month\n",
    "sns.barplot(x=orders_per_month.index, y=orders_per_month.values, ax=axes[0, 1])\n",
    "axes[0, 1].set_title('Number of Orders per Month')\n",
    "axes[0, 1].set_xlabel('Month')\n",
    "axes[0, 1].set_ylabel('Number of Orders')\n",
    "\n",
    "# Plot number of orders per day of the week\n",
    "axes[1, 0].bar(orders_per_day_of_week.index, orders_per_day_of_week.values, color='lightgreen')\n",
    "axes[1, 0].set_title('Number of Orders per Day of the Week')\n",
    "axes[1, 0].set_xlabel('Day of the Week')\n",
    "axes[1, 0].set_ylabel('Number of Orders')\n",
    "axes[1, 0].set_xticks(range(7))  # Set x-axis ticks for day of the week\n",
    "\n",
    "# Plot number of orders per hour\n",
    "sns.lineplot(x=orders_per_hour.index, y=orders_per_hour.values, ax=axes[1, 1], marker='o', color='orange')\n",
    "axes[1, 1].set_title('Number of Orders per Hour')\n",
    "axes[1, 1].set_xlabel('Hour')\n",
    "axes[1, 1].set_ylabel('Number of Orders')\n",
    "\n",
    "# Adjust layout\n",
    "plt.tight_layout()\n",
    "\n",
    "# Show plots\n",
    "plt.show()"
   ]
  },
  {
   "cell_type": "code",
   "execution_count": null,
   "id": "6f9203c3",
   "metadata": {},
   "outputs": [],
   "source": [
    "olist_new['ord_new'] = olist_new['order_item_id'].copy()\n",
    "\n",
    "olist_new.loc[olist_new['order_item_id'].isin([7,8,9,10]), 'ord_new'] = '7 to 10'\n",
    "olist_new.loc[(olist_new['order_item_id'] > 10), 'ord_new'] = '10 to 20'"
   ]
  },
  {
   "cell_type": "code",
   "execution_count": null,
   "id": "8c2f9d22",
   "metadata": {},
   "outputs": [],
   "source": [
    "plt.figure(figsize=(14,10))\n",
    "\n",
    "\n",
    "plt.subplot(211)\n",
    "g = sns.countplot(x='ord_new', data=olist_new)\n",
    "g.set_title(\"Order Item Id Distribution\", fontsize=20)\n",
    "g.set_xlabel(\"State Name Short\", fontsize=17)\n",
    "g.set_ylabel(\"Count\", fontsize=17)\n",
    "sizes = []\n",
    "for p in g.patches:\n",
    "    height = p.get_height()\n",
    "    sizes.append(height)\n",
    "    g.text(p.get_x()+p.get_width()/2.,\n",
    "            height + 3,\n",
    "            '{:1.2f}%'.format(height/len(olist_new)*100),\n",
    "            ha=\"center\", fontsize=12) \n",
    "g.set_ylim(0, max(sizes) * 1.1)\n",
    "\n",
    "\n",
    "\n",
    "plt.show()"
   ]
  },
  {
   "cell_type": "code",
   "execution_count": null,
   "id": "94ca7bbe",
   "metadata": {},
   "outputs": [],
   "source": []
  },
  {
   "cell_type": "code",
   "execution_count": null,
   "id": "3466abe8",
   "metadata": {},
   "outputs": [],
   "source": [
    "\n",
    "plt.figure(figsize=(12, 6))\n",
    "plt.title('Customer State Distribution', fontsize=12)\n",
    "\n",
    "# Plot countplot for customer state distribution\n",
    "g = sns.countplot(x='customer_state', data=olist_new, orient='h')\n",
    "g.set_xlabel(\"State Name\", fontsize=17)\n",
    "g.set_ylabel(\"Count\", fontsize=17)\n",
    "g.set_xticklabels(g.get_xticklabels(), rotation=45)\n",
    "sizes = []\n",
    "for p in g.patches:\n",
    "    height = p.get_height()\n",
    "    sizes.append(height)\n",
    "    g.text(p.get_x() + p.get_width() / 2., height + 3, '{:1.2f}%'.format(height / len(olist_new) * 100),\n",
    "           ha=\"center\", fontsize=12)\n",
    "g.set_ylim(0, max(sizes) * 1.1)\n",
    "\n",
    "plt.show()\n"
   ]
  },
  {
   "cell_type": "code",
   "execution_count": null,
   "id": "886987bc",
   "metadata": {},
   "outputs": [],
   "source": [
    "def classify_cat(x):\n",
    "\n",
    "    if x in ['office_furniture', 'furniture_decor', 'furniture_living_room', 'kitchen_dining_laundry_garden_furniture', 'bed_bath_table', 'home_comfort', 'home_comfort_2', 'home_construction', 'garden_tools', 'furniture_bedroom', 'furniture_mattress_and_upholstery']:\n",
    "        return 'Furniture'\n",
    "    \n",
    "    elif x in ['auto', 'computers_accessories', 'musical_instruments', 'consoles_games', 'watches_gifts', 'air_conditioning', 'telephony', 'electronics', 'fixed_telephony', 'tablets_printing_image', 'computers', 'small_appliances_home_oven_and_coffee', 'small_appliances', 'audio', 'signaling_and_security', 'security_and_services']:\n",
    "        return 'Electronics'\n",
    "    \n",
    "    elif x in ['fashio_female_clothing', 'fashion_male_clothing', 'fashion_bags_accessories', 'fashion_shoes', 'fashion_sport', 'fashion_underwear_beach', 'fashion_childrens_clothes', 'baby', 'cool_stuff', ]:\n",
    "        return 'Fashion'\n",
    "    \n",
    "    elif x in ['housewares', 'home_confort', 'home_appliances', 'home_appliances_2', 'flowers', 'costruction_tools_garden', 'garden_tools', 'construction_tools_lights', 'costruction_tools_tools', 'luggage_accessories', 'la_cuisine', 'pet_shop', 'market_place']:\n",
    "        return 'Home & Garden'\n",
    "    \n",
    "    elif x in ['sports_leisure', 'toys', 'cds_dvds_musicals', 'music', 'dvds_blu_ray', 'cine_photo', 'party_supplies', 'christmas_supplies', 'arts_and_craftmanship', 'art']:\n",
    "        return 'Entertainment'\n",
    "    \n",
    "    elif x in ['health_beauty', 'perfumery', 'diapers_and_hygiene']:\n",
    "        return 'Beauty & Health'\n",
    "    \n",
    "    elif x in ['food_drink', 'drinks', 'food']:\n",
    "        return 'Food & Drinks'\n",
    "    \n",
    "    elif x in ['books_general_interest', 'books_technical', 'books_imported', 'stationery']:\n",
    "        return 'Books & Stationery'\n",
    "    \n",
    "    elif x in ['construction_tools_construction', 'construction_tools_safety', 'industry_commerce_and_business', 'agro_industry_and_commerce']:\n",
    "        return 'Industry & Construction'\n",
    "\n",
    "olist_new['product_category'] = olist_new.product_category_name_english.apply(classify_cat)"
   ]
  },
  {
   "cell_type": "code",
   "execution_count": null,
   "id": "93332107",
   "metadata": {},
   "outputs": [],
   "source": [
    "olist_new.product_category.value_counts()"
   ]
  },
  {
   "cell_type": "code",
   "execution_count": null,
   "id": "58edaf57",
   "metadata": {},
   "outputs": [],
   "source": [
    "plt.figure(figsize=[10, 6])\n",
    "sns.barplot(x = olist_new.product_category.value_counts().values, y = olist_new.product_category.value_counts().index, palette= 'crest_r')\n",
    "plt.title('Number of orders per each Category')\n",
    "plt.xticks(rotation = 45)\n",
    "sns.despine()"
   ]
  },
  {
   "cell_type": "code",
   "execution_count": null,
   "id": "f06a250b",
   "metadata": {},
   "outputs": [],
   "source": []
  }
 ],
 "metadata": {
  "kernelspec": {
   "display_name": "Python 3 (ipykernel)",
   "language": "python",
   "name": "python3"
  },
  "language_info": {
   "codemirror_mode": {
    "name": "ipython",
    "version": 3
   },
   "file_extension": ".py",
   "mimetype": "text/x-python",
   "name": "python",
   "nbconvert_exporter": "python",
   "pygments_lexer": "ipython3",
   "version": "3.11.4"
  }
 },
 "nbformat": 4,
 "nbformat_minor": 5
}
