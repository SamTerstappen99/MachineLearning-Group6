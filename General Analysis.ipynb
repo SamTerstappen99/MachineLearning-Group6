{
 "cells": [
  {
   "cell_type": "code",
   "execution_count": 1,
   "id": "20c9f5a1",
   "metadata": {},
   "outputs": [],
   "source": [
    "import pandas as pd\n"
   ]
  },
  {
   "cell_type": "code",
   "execution_count": 2,
   "id": "a87db8d9",
   "metadata": {},
   "outputs": [],
   "source": [
    "olist_customer = pd.read_csv('olist_customers_dataset.csv')\n",
    "olist_geolocation = pd.read_csv('olist_geolocation_dataset.csv')\n",
    "olist_orders = pd.read_csv('olist_orders_dataset.csv')\n",
    "olist_order_items = pd.read_csv('olist_order_items_dataset.csv')\n",
    "olist_order_payments = pd.read_csv('olist_order_payments_dataset.csv')\n",
    "olist_order_reviews = pd.read_csv('olist_order_reviews_dataset.csv')\n",
    "olist_products = pd.read_csv('olist_products_dataset.csv')\n",
    "olist_sellers = pd.read_csv('olist_sellers_dataset.csv')"
   ]
  },
  {
   "cell_type": "code",
   "execution_count": null,
   "id": "f987f571",
   "metadata": {},
   "outputs": [],
   "source": []
  }
 ],
 "metadata": {
  "kernelspec": {
   "display_name": "Python 3 (ipykernel)",
   "language": "python",
   "name": "python3"
  },
  "language_info": {
   "codemirror_mode": {
    "name": "ipython",
    "version": 3
   },
   "file_extension": ".py",
   "mimetype": "text/x-python",
   "name": "python",
   "nbconvert_exporter": "python",
   "pygments_lexer": "ipython3",
   "version": "3.11.4"
  }
 },
 "nbformat": 4,
 "nbformat_minor": 5
}
